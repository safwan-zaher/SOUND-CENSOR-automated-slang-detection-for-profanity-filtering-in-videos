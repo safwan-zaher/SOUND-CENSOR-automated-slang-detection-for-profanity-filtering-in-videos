{
  "cells": [
    {
      "cell_type": "markdown",
      "metadata": {
        "id": "rzo_u7IYWrA5"
      },
      "source": [
        "# Installing Modules"
      ]
    },
    {
      "cell_type": "code",
      "execution_count": null,
      "metadata": {
        "id": "RT2fEKfaWxCX"
      },
      "outputs": [],
      "source": [
        "!pip install pydub\n",
        "!pip install faster-whisper\n",
        "!pip install streamlit"
      ]
    },
    {
      "cell_type": "markdown",
      "metadata": {
        "id": "RxtbQ0EVXjW_"
      },
      "source": [
        "# Streamlit app.py"
      ]
    },
    {
      "cell_type": "code",
      "execution_count": null,
      "metadata": {
        "colab": {
          "base_uri": "https://localhost:8080/"
        },
        "id": "gu8sadTAW7RL",
        "outputId": "c8694564-69c8-4681-b2fb-d2f75647b924"
      },
      "outputs": [
        {
          "output_type": "stream",
          "name": "stdout",
          "text": [
            "Writing app.py\n"
          ]
        }
      ],
      "source": [
        "%%writefile app.py\n",
        "import streamlit as st\n",
        "import pandas as pd\n",
        "from pydub import AudioSegment\n",
        "import subprocess\n",
        "from faster_whisper import WhisperModel\n",
        "from google.colab import drive\n",
        "\n",
        "\n",
        "# Function to transcribe audio and generate muted video\n",
        "def generate_muted_video(file_name, excel_file):\n",
        "    file_format = file_name.split('.')[-1].lower()\n",
        "    if file_format == 'mp4':\n",
        "        audio = AudioSegment.from_file(file_name, format=\"mp4\")\n",
        "        audio.export('/content/input_audio.wav', format=\"wav\")\n",
        "    elif file_format == 'mp3':\n",
        "        audio = AudioSegment.from_file(file_name, format=\"mp3\")\n",
        "        audio.export('/content/input_audio.wav', format=\"wav\")\n",
        "    elif file_format == 'wav':\n",
        "        # Use the uploaded WAV file directly\n",
        "        files.move(file_name, '/content/input_audio.wav')\n",
        "    else:\n",
        "        raise ValueError(f\"Unsupported file format: {file_format}\")\n",
        "\n",
        "\n",
        "    # Run WhisperModel\n",
        "    model_size = \"large-v2\"\n",
        "    model = WhisperModel(model_size, device=\"cuda\", compute_type=\"float16\")\n",
        "    segments, _ = model.transcribe(\"/content/input_audio.wav\", word_timestamps=True, beam_size=5)\n",
        "\n",
        "\n",
        "\n",
        "    # word_timestamps\n",
        "    t = []\n",
        "    for segment in segments:\n",
        "        for word in segment.words:\n",
        "            t.append(word)\n",
        "    csv_df = pd.DataFrame(t)\n",
        "\n",
        "    # Remove whitespaces and punctuation\n",
        "    csv_df['word'] = csv_df['word'].str.strip()\n",
        "    csv_df['word'] = csv_df['word'].str.replace(r'[^\\w\\s]', '')\n",
        "\n",
        "    excel_df = pd.read_excel(excel_file)\n",
        "    excel_df['Keyword'] = excel_df['Keyword'].str.strip()\n",
        "\n",
        "    # Merge the datasets on the 'word' column\n",
        "    merged_df = pd.merge(csv_df, excel_df, left_on='word', right_on='Keyword', how='inner')\n",
        "\n",
        "    merged_df.to_csv('/content/output_file.csv', index=False)\n",
        "\n",
        "    df = pd.read_csv('/content/output_file.csv')\n",
        "\n",
        "    ffmpeg_cmd = f'ffmpeg -i {file_name} -af \"'\n",
        "\n",
        "    for index, row in df.iterrows():\n",
        "        start_time = row['start']\n",
        "        end_time = row['end']\n",
        "        ffmpeg_cmd += f\"volume=enable='between(t,{start_time},{end_time})':volume=0, \"\n",
        "\n",
        "    # Remove the last comma and space, and close the quote\n",
        "    ffmpeg_cmd = ffmpeg_cmd.rstrip(', ') + '\" -c:v copy /content/output_video.mp4'\n",
        "\n",
        "    result = subprocess.run(ffmpeg_cmd, shell=True, capture_output=True)\n",
        "\n",
        "    # Display the muted video\n",
        "    st.video('/content/output_video.mp4')\n",
        "\n",
        "\n",
        "def main():\n",
        "    st.title(\"Sound Censor\")\n",
        "\n",
        "    # Upload the video file\n",
        "    uploaded_video = st.file_uploader(\"Upload video file\", type=[\"mp4\"])\n",
        "\n",
        "    # Fixed path to the Excel file on Google Drive\n",
        "    excel_file_path = '/content/drive/MyDrive/Dataset/Book1.xlsx'\n",
        "\n",
        "    # Display video to the right of the sidebar\n",
        "    if uploaded_video:\n",
        "        st.video(uploaded_video)\n",
        "\n",
        "    # Button to run the video muting process\n",
        "    if st.button(\"Generate Muted Video\"):\n",
        "        # Save the uploaded video file\n",
        "        with open('/content/input_video.' + uploaded_video.name.split('.')[-1], 'wb') as f:\n",
        "            f.write(uploaded_video.read())\n",
        "\n",
        "        # Get the uploaded file name\n",
        "        video_file = '/content/input_video.' + uploaded_video.name.split('.')[-1]\n",
        "\n",
        "        # Your logic to mute the video based on the slang dataset\n",
        "        generate_muted_video(video_file, excel_file_path)\n",
        "\n",
        "\n",
        "if __name__ == \"__main__\":\n",
        "    main()"
      ]
    },
    {
      "cell_type": "markdown",
      "source": [
        "# Running the website"
      ],
      "metadata": {
        "id": "JVHFFWHfh8gM"
      }
    },
    {
      "cell_type": "code",
      "execution_count": null,
      "metadata": {
        "colab": {
          "base_uri": "https://localhost:8080/"
        },
        "id": "1R9kE4hFXnCE",
        "outputId": "8dd0db1d-d9d5-45b9-91e6-3adc27ba4f3d"
      },
      "outputs": [
        {
          "output_type": "stream",
          "name": "stdout",
          "text": [
            "Password/Enpoint IP for localtunnel is: 34.90.24.219\n",
            "\u001b[K\u001b[?25h\u001b[37;40mnpm\u001b[0m \u001b[0m\u001b[30;43mWARN\u001b[0m \u001b[0m\u001b[35msaveError\u001b[0m ENOENT: no such file or directory, open '/content/package.json'\n",
            "\u001b[0m\u001b[37;40mnpm\u001b[0m \u001b[0m\u001b[34;40mnotice\u001b[0m\u001b[35m\u001b[0m created a lockfile as package-lock.json. You should commit this file.\n",
            "\u001b[0m\u001b[37;40mnpm\u001b[0m \u001b[0m\u001b[30;43mWARN\u001b[0m \u001b[0m\u001b[35menoent\u001b[0m ENOENT: no such file or directory, open '/content/package.json'\n",
            "\u001b[0m\u001b[37;40mnpm\u001b[0m \u001b[0m\u001b[30;43mWARN\u001b[0m\u001b[35m\u001b[0m content No description\n",
            "\u001b[0m\u001b[37;40mnpm\u001b[0m \u001b[0m\u001b[30;43mWARN\u001b[0m\u001b[35m\u001b[0m content No repository field.\n",
            "\u001b[0m\u001b[37;40mnpm\u001b[0m \u001b[0m\u001b[30;43mWARN\u001b[0m\u001b[35m\u001b[0m content No README data\n",
            "\u001b[0m\u001b[37;40mnpm\u001b[0m \u001b[0m\u001b[30;43mWARN\u001b[0m\u001b[35m\u001b[0m content No license field.\n",
            "\u001b[0m\n",
            "+ localtunnel@2.0.2\n",
            "added 22 packages from 22 contributors and audited 22 packages in 3.033s\n",
            "\n",
            "3 packages are looking for funding\n",
            "  run `npm fund` for details\n",
            "\n",
            "found 1 \u001b[93mmoderate\u001b[0m severity vulnerability\n",
            "  run `npm audit fix` to fix them, or `npm audit` for details\n",
            "\u001b[K\u001b[?25hnpx: installed 22 in 3s\n",
            "your url is: https://early-carrots-dance.loca.lt\n",
            "^C\n"
          ]
        }
      ],
      "source": [
        "import urllib\n",
        "print(\"Password/Enpoint IP for localtunnel is:\",urllib.request.urlopen('https://ipv4.icanhazip.com').read().decode('utf8').strip(\"\\n\"))\n",
        "!npm install localtunnel\n",
        "!streamlit run /content/app.py &>/content/logs.txt &\n",
        "!npx localtunnel --port 8501\n",
        "#34.90.24.219"
      ]
    },
    {
      "cell_type": "code",
      "execution_count": null,
      "metadata": {
        "id": "PR-CKvWyYuhh"
      },
      "outputs": [],
      "source": []
    }
  ],
  "metadata": {
    "accelerator": "GPU",
    "colab": {
      "provenance": [],
      "gpuType": "T4"
    },
    "kernelspec": {
      "display_name": "Python 3",
      "name": "python3"
    },
    "language_info": {
      "name": "python"
    }
  },
  "nbformat": 4,
  "nbformat_minor": 0
}